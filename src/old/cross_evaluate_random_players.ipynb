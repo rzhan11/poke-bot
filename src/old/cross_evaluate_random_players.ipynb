{
 "cells": [
  {
   "cell_type": "code",
   "execution_count": 1,
   "metadata": {},
   "outputs": [],
   "source": [
    "from poke_env.player import RandomPlayer, cross_evaluate\n",
    "from tabulate import tabulate\n",
    "\n",
    "# Create three random players\n",
    "players = [RandomPlayer(max_concurrent_battles=10) for _ in range(3)]\n",
    "\n",
    "# Cross evaluate players: each player plays 20 games against every other player\n",
    "cross_evaluation = await cross_evaluate(players, n_challenges=20)\n",
    "\n",
    "# Prepare results for display\n",
    "table = [[\"-\"] + [p.username for p in players]]\n",
    "print(\"table\", table)\n",
    "for p1, results in cross_evaluation.items():\n",
    "  table.append([p1] + [cross_evaluation[p1][p2] for p2 in results])\n",
    "\n",
    "print(tabulate(table))\n"
   ]
  },
  {
   "cell_type": "code",
   "execution_count": null,
   "metadata": {},
   "outputs": [],
   "source": []
  }
 ],
 "metadata": {
  "kernelspec": {
   "display_name": "poke",
   "language": "python",
   "name": "python3"
  },
  "language_info": {
   "codemirror_mode": {
    "name": "ipython",
    "version": 3
   },
   "file_extension": ".py",
   "mimetype": "text/x-python",
   "name": "python",
   "nbconvert_exporter": "python",
   "pygments_lexer": "ipython3",
   "version": "3.10.6"
  }
 },
 "nbformat": 4,
 "nbformat_minor": 2
}
